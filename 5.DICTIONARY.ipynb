{
 "cells": [
  {
   "cell_type": "markdown",
   "id": "81788084",
   "metadata": {},
   "source": [
    "### 5.DICTIONARY\n",
    "Write a Python program that allows the user to create a dictionary of personal details for a group of people. The program should ask the user to enter the name, age, and occupation for each person, and then store this information in a dictionary. Once all the details have been entered, the program should print out the dictionary. Here's how the output of the Python program\n",
    "would look like:\n",
    "\n",
    "{\n",
    "{'Name\n",
    "'\n",
    ":\n",
    "'John\n",
    "'\n",
    ",\n",
    "'Age\n",
    "'\n",
    ": 30,\n",
    "'Occupation\n",
    "'\n",
    ":\n",
    "'Engineer\n",
    "'},\n",
    "\n",
    "{'Name\n",
    "'\n",
    ":\n",
    "'Sarah'\n",
    ",\n",
    "'Age\n",
    "'\n",
    ": 25,\n",
    "'Occupation\n",
    "'\n",
    ":\n",
    "'Teacher\n",
    "'}\n",
    "}\n"
   ]
  },
  {
   "cell_type": "code",
   "execution_count": 5,
   "id": "2e9da96d",
   "metadata": {},
   "outputs": [
    {
     "name": "stdout",
     "output_type": "stream",
     "text": [
      "Enter a name  : Ashwini Kakulte\n",
      "age : 23\n",
      "Enter the occupation : Job\n",
      "Name: Ashwini Kakulte\n",
      "Age: 23\n",
      "Occupation: Job\n"
     ]
    }
   ],
   "source": [
    "def personal_details():\n",
    "    Name= input(\"Enter a name  : \")\n",
    "    Age=input(\"age : \")\n",
    "    Occupation = input(\"Enter the occupation : \")\n",
    "    \n",
    "\n",
    "    \n",
    "    print(\"Name: {}\\nAge: {}\\nOccupation: {}\".format(Name , Age , Occupation))\n",
    "personal_details() "
   ]
  },
  {
   "cell_type": "code",
   "execution_count": null,
   "id": "2bd549c2",
   "metadata": {},
   "outputs": [],
   "source": []
  }
 ],
 "metadata": {
  "kernelspec": {
   "display_name": "Python 3 (ipykernel)",
   "language": "python",
   "name": "python3"
  },
  "language_info": {
   "codemirror_mode": {
    "name": "ipython",
    "version": 3
   },
   "file_extension": ".py",
   "mimetype": "text/x-python",
   "name": "python",
   "nbconvert_exporter": "python",
   "pygments_lexer": "ipython3",
   "version": "3.9.13"
  }
 },
 "nbformat": 4,
 "nbformat_minor": 5
}
